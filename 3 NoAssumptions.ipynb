{
 "cells": [
  {
   "attachments": {},
   "cell_type": "markdown",
   "metadata": {},
   "source": [
    "## Modelo de regresion lineal sin los supuestos clasicos\n",
    "Debido a que los supuestos en muchos casos suelen ser muy específicos, existen casos en los que se encuentra que no se cumplen con estos supuestos. Por ello, es importante saber identificarlos y encontrar una solucion a los siguientes:\n",
    "1. Heterocedasticidad: varianza cambiante en el tiempo (supuesto 3)\n",
    "2. Autocorrelacion: correlacion con rezagos (supuesto 3)\n",
    "3. Endogeneidad en los regresores: correlacion de un regresor con el error (supuesto 2)\n",
    "4. No normalidad en los errores: (supuesto 5)"
   ]
  },
  {
   "cell_type": "code",
   "execution_count": 193,
   "metadata": {},
   "outputs": [],
   "source": [
    "import pandas as pd\n",
    "import numpy as np\n",
    "import matplotlib.pyplot as plt\n",
    "\n",
    "import statsmodels.api as sm\n",
    "from statsmodels.graphics.tsaplots import plot_acf, plot_pacf\n",
    "from statsmodels.stats.diagnostic import acorr_breusch_godfrey\n",
    "from statsmodels.stats.stattools import durbin_watson\n",
    "\n",
    "import warnings\n",
    "warnings.simplefilter(\"ignore\")"
   ]
  },
  {
   "attachments": {},
   "cell_type": "markdown",
   "metadata": {},
   "source": [
    "### Heterocedasticidad"
   ]
  },
  {
   "cell_type": "code",
   "execution_count": null,
   "metadata": {},
   "outputs": [],
   "source": []
  },
  {
   "cell_type": "code",
   "execution_count": null,
   "metadata": {},
   "outputs": [],
   "source": []
  },
  {
   "attachments": {},
   "cell_type": "markdown",
   "metadata": {},
   "source": [
    "### Autocorrelacion\n",
    "Se usara las series macroeconomicas de los Estados Unidos"
   ]
  },
  {
   "cell_type": "code",
   "execution_count": 63,
   "metadata": {},
   "outputs": [
    {
     "data": {
      "text/html": [
       "<div>\n",
       "<style scoped>\n",
       "    .dataframe tbody tr th:only-of-type {\n",
       "        vertical-align: middle;\n",
       "    }\n",
       "\n",
       "    .dataframe tbody tr th {\n",
       "        vertical-align: top;\n",
       "    }\n",
       "\n",
       "    .dataframe thead th {\n",
       "        text-align: right;\n",
       "    }\n",
       "</style>\n",
       "<table border=\"1\" class=\"dataframe\">\n",
       "  <thead>\n",
       "    <tr style=\"text-align: right;\">\n",
       "      <th></th>\n",
       "      <th>year</th>\n",
       "      <th>quarter</th>\n",
       "      <th>realgdp</th>\n",
       "      <th>realcons</th>\n",
       "      <th>realinv</th>\n",
       "      <th>realgovt</th>\n",
       "      <th>realdpi</th>\n",
       "      <th>cpi</th>\n",
       "      <th>m1</th>\n",
       "      <th>tbilrate</th>\n",
       "      <th>unemp</th>\n",
       "      <th>pop</th>\n",
       "      <th>infl</th>\n",
       "      <th>realint</th>\n",
       "    </tr>\n",
       "  </thead>\n",
       "  <tbody>\n",
       "    <tr>\n",
       "      <th>0</th>\n",
       "      <td>1959.0</td>\n",
       "      <td>1.0</td>\n",
       "      <td>2710.349</td>\n",
       "      <td>1707.4</td>\n",
       "      <td>286.898</td>\n",
       "      <td>470.045</td>\n",
       "      <td>1886.9</td>\n",
       "      <td>28.98</td>\n",
       "      <td>139.7</td>\n",
       "      <td>2.82</td>\n",
       "      <td>5.8</td>\n",
       "      <td>177.146</td>\n",
       "      <td>0.00</td>\n",
       "      <td>0.00</td>\n",
       "    </tr>\n",
       "    <tr>\n",
       "      <th>1</th>\n",
       "      <td>1959.0</td>\n",
       "      <td>2.0</td>\n",
       "      <td>2778.801</td>\n",
       "      <td>1733.7</td>\n",
       "      <td>310.859</td>\n",
       "      <td>481.301</td>\n",
       "      <td>1919.7</td>\n",
       "      <td>29.15</td>\n",
       "      <td>141.7</td>\n",
       "      <td>3.08</td>\n",
       "      <td>5.1</td>\n",
       "      <td>177.830</td>\n",
       "      <td>2.34</td>\n",
       "      <td>0.74</td>\n",
       "    </tr>\n",
       "    <tr>\n",
       "      <th>2</th>\n",
       "      <td>1959.0</td>\n",
       "      <td>3.0</td>\n",
       "      <td>2775.488</td>\n",
       "      <td>1751.8</td>\n",
       "      <td>289.226</td>\n",
       "      <td>491.260</td>\n",
       "      <td>1916.4</td>\n",
       "      <td>29.35</td>\n",
       "      <td>140.5</td>\n",
       "      <td>3.82</td>\n",
       "      <td>5.3</td>\n",
       "      <td>178.657</td>\n",
       "      <td>2.74</td>\n",
       "      <td>1.09</td>\n",
       "    </tr>\n",
       "    <tr>\n",
       "      <th>3</th>\n",
       "      <td>1959.0</td>\n",
       "      <td>4.0</td>\n",
       "      <td>2785.204</td>\n",
       "      <td>1753.7</td>\n",
       "      <td>299.356</td>\n",
       "      <td>484.052</td>\n",
       "      <td>1931.3</td>\n",
       "      <td>29.37</td>\n",
       "      <td>140.0</td>\n",
       "      <td>4.33</td>\n",
       "      <td>5.6</td>\n",
       "      <td>179.386</td>\n",
       "      <td>0.27</td>\n",
       "      <td>4.06</td>\n",
       "    </tr>\n",
       "    <tr>\n",
       "      <th>4</th>\n",
       "      <td>1960.0</td>\n",
       "      <td>1.0</td>\n",
       "      <td>2847.699</td>\n",
       "      <td>1770.5</td>\n",
       "      <td>331.722</td>\n",
       "      <td>462.199</td>\n",
       "      <td>1955.5</td>\n",
       "      <td>29.54</td>\n",
       "      <td>139.6</td>\n",
       "      <td>3.50</td>\n",
       "      <td>5.2</td>\n",
       "      <td>180.007</td>\n",
       "      <td>2.31</td>\n",
       "      <td>1.19</td>\n",
       "    </tr>\n",
       "  </tbody>\n",
       "</table>\n",
       "</div>"
      ],
      "text/plain": [
       "     year  quarter   realgdp  realcons  realinv  realgovt  realdpi    cpi  \\\n",
       "0  1959.0      1.0  2710.349    1707.4  286.898   470.045   1886.9  28.98   \n",
       "1  1959.0      2.0  2778.801    1733.7  310.859   481.301   1919.7  29.15   \n",
       "2  1959.0      3.0  2775.488    1751.8  289.226   491.260   1916.4  29.35   \n",
       "3  1959.0      4.0  2785.204    1753.7  299.356   484.052   1931.3  29.37   \n",
       "4  1960.0      1.0  2847.699    1770.5  331.722   462.199   1955.5  29.54   \n",
       "\n",
       "      m1  tbilrate  unemp      pop  infl  realint  \n",
       "0  139.7      2.82    5.8  177.146  0.00     0.00  \n",
       "1  141.7      3.08    5.1  177.830  2.34     0.74  \n",
       "2  140.5      3.82    5.3  178.657  2.74     1.09  \n",
       "3  140.0      4.33    5.6  179.386  0.27     4.06  \n",
       "4  139.6      3.50    5.2  180.007  2.31     1.19  "
      ]
     },
     "execution_count": 63,
     "metadata": {},
     "output_type": "execute_result"
    }
   ],
   "source": [
    "dta = sm.datasets.macrodata.load_pandas()\n",
    "dta.data.to_csv(\"./data/macrodata.csv\")\n",
    "\n",
    "dta.data.head()"
   ]
  },
  {
   "cell_type": "code",
   "execution_count": 224,
   "metadata": {},
   "outputs": [],
   "source": [
    "X = dta.data[[\"realgdp\"]]; y = dta.data[\"cpi\"]\n",
    "X = np.log(X); y = np.log(y)\n",
    "\n",
    "X = X.diff(periods=4)*100; X = X.dropna()\n",
    "y = y.diff(periods=4)*100; y = y.dropna()\n",
    "\n",
    "# Añadir constante\n",
    "X = sm.add_constant(X)"
   ]
  },
  {
   "cell_type": "code",
   "execution_count": 225,
   "metadata": {},
   "outputs": [
    {
     "name": "stdout",
     "output_type": "stream",
     "text": [
      "                            OLS Regression Results                            \n",
      "==============================================================================\n",
      "Dep. Variable:                    cpi   R-squared:                       0.036\n",
      "Model:                            OLS   Adj. R-squared:                  0.031\n",
      "Method:                 Least Squares   F-statistic:                     7.333\n",
      "Date:                Sat, 31 Dec 2022   Prob (F-statistic):            0.00737\n",
      "Time:                        17:10:26   Log-Likelihood:                -480.93\n",
      "No. Observations:                 199   AIC:                             965.9\n",
      "Df Residuals:                     197   BIC:                             972.4\n",
      "Df Model:                           1                                         \n",
      "Covariance Type:            nonrobust                                         \n",
      "==============================================================================\n",
      "                 coef    std err          t      P>|t|      [0.025      0.975]\n",
      "------------------------------------------------------------------------------\n",
      "const          4.7062      0.324     14.526      0.000       4.067       5.345\n",
      "realgdp       -0.2263      0.084     -2.708      0.007      -0.391      -0.061\n",
      "==============================================================================\n",
      "Omnibus:                       35.588   Durbin-Watson:                   0.097\n",
      "Prob(Omnibus):                  0.000   Jarque-Bera (JB):               51.830\n",
      "Skew:                           1.029   Prob(JB):                     5.56e-12\n",
      "Kurtosis:                       4.421   Cond. No.                         6.78\n",
      "==============================================================================\n",
      "\n",
      "Notes:\n",
      "[1] Standard Errors assume that the covariance matrix of the errors is correctly specified.\n"
     ]
    }
   ],
   "source": [
    "model = sm.OLS(y, X)\n",
    "results = model.fit()\n",
    "\n",
    "print(results.summary())"
   ]
  },
  {
   "attachments": {},
   "cell_type": "markdown",
   "metadata": {},
   "source": [
    "Se puede definir la existencia de autocorrelacion mediante lo siguiente:\n",
    "1. ACF, PACF\n",
    "2. Test de Durbin-Watson\n",
    "3. Test de Breusch-Pagan"
   ]
  },
  {
   "cell_type": "code",
   "execution_count": 280,
   "metadata": {},
   "outputs": [
    {
     "data": {
      "image/png": "[encoded data removed]",
      "text/plain": [
       "<Figure size 1000x300 with 2 Axes>"
      ]
     },
     "metadata": {},
     "output_type": "display_data"
    }
   ],
   "source": [
    "# Test 1\n",
    "fig, ax = plt.subplots(1, 2, figsize=(10,3))\n",
    "\n",
    "plot_acf(y, ax=ax[0], lags=10, title=\"ACF al GDP (var. %)\", alpha=0.05)\n",
    "plot_pacf(y, ax=ax[1], lags=10, title=\"PACF al GDP (var. %)\", alpha=0.05)\n",
    "\n",
    "ax[0].set_ylim([-0.3, 1.2])\n",
    "ax[1].set_ylim([-0.3, 1.2])\n",
    "\n",
    "plt.savefig(\"./figures/acf_pacf_gdp.pdf\")\n",
    "plt.show()"
   ]
  },
  {
   "cell_type": "code",
   "execution_count": 228,
   "metadata": {},
   "outputs": [
    {
     "data": {
      "text/plain": [
       "0.097"
      ]
     },
     "execution_count": 228,
     "metadata": {},
     "output_type": "execute_result"
    }
   ],
   "source": [
    "# Test 2\n",
    "np.round(durbin_watson(results.resid), 3) # Autocorrelacion positiva"
   ]
  },
  {
   "cell_type": "code",
   "execution_count": 275,
   "metadata": {},
   "outputs": [
    {
     "data": {
      "text/html": [
       "<div>\n",
       "<style scoped>\n",
       "    .dataframe tbody tr th:only-of-type {\n",
       "        vertical-align: middle;\n",
       "    }\n",
       "\n",
       "    .dataframe tbody tr th {\n",
       "        vertical-align: top;\n",
       "    }\n",
       "\n",
       "    .dataframe thead th {\n",
       "        text-align: right;\n",
       "    }\n",
       "</style>\n",
       "<table border=\"1\" class=\"dataframe\">\n",
       "  <thead>\n",
       "    <tr style=\"text-align: right;\">\n",
       "      <th></th>\n",
       "      <th>LM</th>\n",
       "      <th>pvalue</th>\n",
       "      <th>pv&lt;0.1</th>\n",
       "      <th>pv&lt;0.05</th>\n",
       "      <th>pv&lt;0.01</th>\n",
       "    </tr>\n",
       "    <tr>\n",
       "      <th>lags</th>\n",
       "      <th></th>\n",
       "      <th></th>\n",
       "      <th></th>\n",
       "      <th></th>\n",
       "      <th></th>\n",
       "    </tr>\n",
       "  </thead>\n",
       "  <tbody>\n",
       "    <tr>\n",
       "      <th>1</th>\n",
       "      <td>0.563</td>\n",
       "      <td>0.453</td>\n",
       "      <td>False</td>\n",
       "      <td>False</td>\n",
       "      <td>False</td>\n",
       "    </tr>\n",
       "    <tr>\n",
       "      <th>2</th>\n",
       "      <td>3.988</td>\n",
       "      <td>0.136</td>\n",
       "      <td>False</td>\n",
       "      <td>False</td>\n",
       "      <td>False</td>\n",
       "    </tr>\n",
       "    <tr>\n",
       "      <th>3</th>\n",
       "      <td>12.778</td>\n",
       "      <td>0.005</td>\n",
       "      <td>True</td>\n",
       "      <td>True</td>\n",
       "      <td>True</td>\n",
       "    </tr>\n",
       "    <tr>\n",
       "      <th>4</th>\n",
       "      <td>35.970</td>\n",
       "      <td>0.000</td>\n",
       "      <td>True</td>\n",
       "      <td>True</td>\n",
       "      <td>True</td>\n",
       "    </tr>\n",
       "    <tr>\n",
       "      <th>5</th>\n",
       "      <td>36.553</td>\n",
       "      <td>0.000</td>\n",
       "      <td>True</td>\n",
       "      <td>True</td>\n",
       "      <td>True</td>\n",
       "    </tr>\n",
       "  </tbody>\n",
       "</table>\n",
       "</div>"
      ],
      "text/plain": [
       "          LM  pvalue  pv<0.1  pv<0.05  pv<0.01\n",
       "lags                                          \n",
       "1      0.563   0.453   False    False    False\n",
       "2      3.988   0.136   False    False    False\n",
       "3     12.778   0.005    True     True     True\n",
       "4     35.970   0.000    True     True     True\n",
       "5     36.553   0.000    True     True     True"
      ]
     },
     "execution_count": 275,
     "metadata": {},
     "output_type": "execute_result"
    }
   ],
   "source": [
    "# Test 3\n",
    "def test_breusch_godfrey(model_results, maxlags):\n",
    "    list = []\n",
    "\n",
    "    for i in range(1, maxlags+1):\n",
    "        values = acorr_breusch_godfrey(model_results, nlags=i)\n",
    "        list.append([i, values[0], values[1]])\n",
    "    \n",
    "    table = pd.DataFrame(list, columns=[\"lags\", \"LM\", \"pvalue\"])\n",
    "    table.set_index(\"lags\", inplace=True)\n",
    "    \n",
    "    # P-value < pvalue \n",
    "    table[f\"pv<0.1\"] = table[\"pvalue\"]<0.1\n",
    "    table[f\"pv<0.05\"] = table[\"pvalue\"]<0.05\n",
    "    table[f\"pv<0.01\"] = table[\"pvalue\"]<0.01\n",
    "\n",
    "    # Rounding\n",
    "    table[\"LM\"] = np.round(table[\"LM\"], 3)\n",
    "    table[\"pvalue\"] = np.round(table[\"pvalue\"], 3)\n",
    "\n",
    "    return table\n",
    "\n",
    "\n",
    "# La hipotesis nula es de no autocorrelacion\n",
    "# Se rechaza la no autocorrelacion hasta 5 rezagos. \n",
    "test_breusch_godfrey(results, maxlags=5)"
   ]
  },
  {
   "attachments": {},
   "cell_type": "markdown",
   "metadata": {},
   "source": [
    "Inclusión de un rezago"
   ]
  },
  {
   "cell_type": "code",
   "execution_count": 271,
   "metadata": {},
   "outputs": [],
   "source": [
    "X = dta.data[[\"realgdp\"]]; y = dta.data[\"cpi\"]\n",
    "X = np.log(X); y = np.log(y)\n",
    "\n",
    "X = X.diff(periods=4)*100 \n",
    "y = y.diff(periods=4)*100\n",
    "\n",
    "X[\"cpi(-1)\"] = y.shift(1) # Añadiendo un rezago\n",
    "X = X.dropna(); y = y.dropna()\n",
    "\n",
    "# Añadir constante\n",
    "X = sm.add_constant(X)\n",
    "\n",
    "y = y[1:]"
   ]
  },
  {
   "cell_type": "code",
   "execution_count": 272,
   "metadata": {},
   "outputs": [
    {
     "name": "stdout",
     "output_type": "stream",
     "text": [
      "                            OLS Regression Results                            \n",
      "==============================================================================\n",
      "Dep. Variable:                    cpi   R-squared:                       0.929\n",
      "Model:                            OLS   Adj. R-squared:                  0.928\n",
      "Method:                 Least Squares   F-statistic:                     1271.\n",
      "Date:                Sat, 31 Dec 2022   Prob (F-statistic):          1.41e-112\n",
      "Time:                        17:18:06   Log-Likelihood:                -220.83\n",
      "No. Observations:                 198   AIC:                             447.7\n",
      "Df Residuals:                     195   BIC:                             457.5\n",
      "Df Model:                           2                                         \n",
      "Covariance Type:            nonrobust                                         \n",
      "==============================================================================\n",
      "                 coef    std err          t      P>|t|      [0.025      0.975]\n",
      "------------------------------------------------------------------------------\n",
      "const         -0.3262      0.135     -2.420      0.016      -0.592      -0.060\n",
      "realgdp        0.1133      0.024      4.755      0.000       0.066       0.160\n",
      "cpi(-1)        0.9910      0.020     49.457      0.000       0.951       1.031\n",
      "==============================================================================\n",
      "Omnibus:                       20.338   Durbin-Watson:                   1.851\n",
      "Prob(Omnibus):                  0.000   Jarque-Bera (JB):               78.274\n",
      "Skew:                          -0.159   Prob(JB):                     1.01e-17\n",
      "Kurtosis:                       6.064   Cond. No.                         14.6\n",
      "==============================================================================\n",
      "\n",
      "Notes:\n",
      "[1] Standard Errors assume that the covariance matrix of the errors is correctly specified.\n"
     ]
    }
   ],
   "source": [
    "model = sm.OLS(y, X)\n",
    "results = model.fit()\n",
    "\n",
    "print(results.summary())"
   ]
  },
  {
   "cell_type": "code",
   "execution_count": 276,
   "metadata": {},
   "outputs": [
    {
     "name": "stdout",
     "output_type": "stream",
     "text": [
      "Parece solucionar un poco la autocorrelacion en los dos primeros rezagos\n"
     ]
    },
    {
     "data": {
      "text/html": [
       "<div>\n",
       "<style scoped>\n",
       "    .dataframe tbody tr th:only-of-type {\n",
       "        vertical-align: middle;\n",
       "    }\n",
       "\n",
       "    .dataframe tbody tr th {\n",
       "        vertical-align: top;\n",
       "    }\n",
       "\n",
       "    .dataframe thead th {\n",
       "        text-align: right;\n",
       "    }\n",
       "</style>\n",
       "<table border=\"1\" class=\"dataframe\">\n",
       "  <thead>\n",
       "    <tr style=\"text-align: right;\">\n",
       "      <th></th>\n",
       "      <th>LM</th>\n",
       "      <th>pvalue</th>\n",
       "      <th>pv&lt;0.1</th>\n",
       "      <th>pv&lt;0.05</th>\n",
       "      <th>pv&lt;0.01</th>\n",
       "    </tr>\n",
       "    <tr>\n",
       "      <th>lags</th>\n",
       "      <th></th>\n",
       "      <th></th>\n",
       "      <th></th>\n",
       "      <th></th>\n",
       "      <th></th>\n",
       "    </tr>\n",
       "  </thead>\n",
       "  <tbody>\n",
       "    <tr>\n",
       "      <th>1</th>\n",
       "      <td>0.563</td>\n",
       "      <td>0.453</td>\n",
       "      <td>False</td>\n",
       "      <td>False</td>\n",
       "      <td>False</td>\n",
       "    </tr>\n",
       "    <tr>\n",
       "      <th>2</th>\n",
       "      <td>3.988</td>\n",
       "      <td>0.136</td>\n",
       "      <td>False</td>\n",
       "      <td>False</td>\n",
       "      <td>False</td>\n",
       "    </tr>\n",
       "    <tr>\n",
       "      <th>3</th>\n",
       "      <td>12.778</td>\n",
       "      <td>0.005</td>\n",
       "      <td>True</td>\n",
       "      <td>True</td>\n",
       "      <td>True</td>\n",
       "    </tr>\n",
       "  </tbody>\n",
       "</table>\n",
       "</div>"
      ],
      "text/plain": [
       "          LM  pvalue  pv<0.1  pv<0.05  pv<0.01\n",
       "lags                                          \n",
       "1      0.563   0.453   False    False    False\n",
       "2      3.988   0.136   False    False    False\n",
       "3     12.778   0.005    True     True     True"
      ]
     },
     "execution_count": 276,
     "metadata": {},
     "output_type": "execute_result"
    }
   ],
   "source": [
    "print(\"Parece solucionar un poco la autocorrelacion en los dos primeros rezagos\")\n",
    "test_breusch_godfrey(results, maxlags=3)"
   ]
  },
  {
   "cell_type": "code",
   "execution_count": null,
   "metadata": {},
   "outputs": [],
   "source": []
  },
  {
   "attachments": {},
   "cell_type": "markdown",
   "metadata": {},
   "source": [
    "### Endogeneidad"
   ]
  },
  {
   "cell_type": "code",
   "execution_count": null,
   "metadata": {},
   "outputs": [],
   "source": []
  },
  {
   "cell_type": "code",
   "execution_count": null,
   "metadata": {},
   "outputs": [],
   "source": []
  },
  {
   "attachments": {},
   "cell_type": "markdown",
   "metadata": {},
   "source": [
    "### No normalidad en errores"
   ]
  },
  {
   "cell_type": "code",
   "execution_count": null,
   "metadata": {},
   "outputs": [],
   "source": []
  },
  {
   "cell_type": "code",
   "execution_count": null,
   "metadata": {},
   "outputs": [],
   "source": []
  },
  {
   "attachments": {},
   "cell_type": "markdown",
   "metadata": {},
   "source": [
    "### Referencias:\n",
    "* https://www.statsmodels.org/dev/diagnostic.html"
   ]
  }
 ],
 "metadata": {
  "kernelspec": {
   "display_name": "base",
   "language": "python",
   "name": "python3"
  },
  "language_info": {
   "codemirror_mode": {
    "name": "ipython",
    "version": 3
   },
   "file_extension": ".py",
   "mimetype": "text/x-python",
   "name": "python",
   "nbconvert_exporter": "python",
   "pygments_lexer": "ipython3",
   "version": "3.9.13"
  },
  "orig_nbformat": 4,
  "vscode": {
   "interpreter": {
    "hash": "a077222d77dfe082b8f1dd562ad70e458ac2ab76993a0b248ab0476e32e9e8dd"
   }
  }
 },
 "nbformat": 4,
 "nbformat_minor": 2
}
