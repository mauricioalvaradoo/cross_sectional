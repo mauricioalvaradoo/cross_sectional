{
 "cells": [
  {
   "attachments": {},
   "cell_type": "markdown",
   "metadata": {},
   "source": [
    "## Modelo de regresion lineal sin los supuestos clasicos\n",
    "Debido a que los supuestos en muchos casos suelen ser muy específicos, existen casos en los que se encuentra que no se cumplen con estos supuestos. Por ello, es importante saber identificarlos y encontrar una solucion a los siguientes:\n",
    "1. Heterocedasticidad: varianza cambiante en el tiempo (supuesto 3)\n",
    "2. Autocorrelacion: correlacion con rezagos (supuesto 3)\n",
    "3. Endogeneidad en los regresores: correlacion de un regresor con el error (supuesto 2)\n",
    "4. No normalidad en los errores: (supuesto 5)"
   ]
  },
  {
   "cell_type": "code",
   "execution_count": 1,
   "metadata": {},
   "outputs": [],
   "source": [
    "import pandas as pd\n",
    "import numpy as np\n",
    "import matplotlib.pyplot as plt\n",
    "\n",
    "import statsmodels.api as sm\n",
    "\n",
    "# Heterocedasticidad\n",
    "from statsmodels.stats.diagnostic import het_breuschpagan, het_white\n",
    "from scipy.linalg import toeplitz\n",
    "\n",
    "# Autocorrelacion\n",
    "from statsmodels.graphics.tsaplots import plot_acf, plot_pacf\n",
    "from statsmodels.stats.diagnostic import acorr_breusch_godfrey\n",
    "from statsmodels.stats.stattools import durbin_watson\n",
    "\n",
    "import warnings\n",
    "warnings.simplefilter(\"ignore\")"
   ]
  },
  {
   "attachments": {},
   "cell_type": "markdown",
   "metadata": {},
   "source": [
    "### Heterocedasticidad\n",
    "Se usara la base de datos \"US Census Bureau\", un censo realizado en EE. UU. para recoger informacion sobre factores socioeconomicos. La endogena es la `cantidad de personas en situacion de pobreza` y las exogenas son la `edad`, `porcentaje con colegio`, y `tasa de disponibilidad de propietarios de viviendas`"
   ]
  },
  {
   "cell_type": "code",
   "execution_count": 2,
   "metadata": {},
   "outputs": [
    {
     "data": {
      "text/html": [
       "<div>\n",
       "<style scoped>\n",
       "    .dataframe tbody tr th:only-of-type {\n",
       "        vertical-align: middle;\n",
       "    }\n",
       "\n",
       "    .dataframe tbody tr th {\n",
       "        vertical-align: top;\n",
       "    }\n",
       "\n",
       "    .dataframe thead th {\n",
       "        text-align: right;\n",
       "    }\n",
       "</style>\n",
       "<table border=\"1\" class=\"dataframe\">\n",
       "  <thead>\n",
       "    <tr style=\"text-align: right;\">\n",
       "      <th></th>\n",
       "      <th>County</th>\n",
       "      <th>poverty</th>\n",
       "      <th>age</th>\n",
       "      <th>vacancy</th>\n",
       "      <th>educ</th>\n",
       "    </tr>\n",
       "  </thead>\n",
       "  <tbody>\n",
       "    <tr>\n",
       "      <th>0</th>\n",
       "      <td>Autauga, Alabama</td>\n",
       "      <td>14.7</td>\n",
       "      <td>38.2</td>\n",
       "      <td>1.4</td>\n",
       "      <td>26.6</td>\n",
       "    </tr>\n",
       "    <tr>\n",
       "      <th>1</th>\n",
       "      <td>Baldwin, Alabama</td>\n",
       "      <td>10.5</td>\n",
       "      <td>43.0</td>\n",
       "      <td>3.3</td>\n",
       "      <td>31.9</td>\n",
       "    </tr>\n",
       "    <tr>\n",
       "      <th>2</th>\n",
       "      <td>Barbour, Alabama</td>\n",
       "      <td>27.5</td>\n",
       "      <td>40.4</td>\n",
       "      <td>3.8</td>\n",
       "      <td>11.6</td>\n",
       "    </tr>\n",
       "    <tr>\n",
       "      <th>3</th>\n",
       "      <td>Bibb, Alabama</td>\n",
       "      <td>18.4</td>\n",
       "      <td>40.9</td>\n",
       "      <td>1.5</td>\n",
       "      <td>10.4</td>\n",
       "    </tr>\n",
       "    <tr>\n",
       "      <th>4</th>\n",
       "      <td>Blount, Alabama</td>\n",
       "      <td>14.2</td>\n",
       "      <td>40.7</td>\n",
       "      <td>0.7</td>\n",
       "      <td>13.1</td>\n",
       "    </tr>\n",
       "  </tbody>\n",
       "</table>\n",
       "</div>"
      ],
      "text/plain": [
       "             County  poverty   age  vacancy  educ\n",
       "0  Autauga, Alabama     14.7  38.2      1.4  26.6\n",
       "1  Baldwin, Alabama     10.5  43.0      3.3  31.9\n",
       "2  Barbour, Alabama     27.5  40.4      3.8  11.6\n",
       "3     Bibb, Alabama     18.4  40.9      1.5  10.4\n",
       "4   Blount, Alabama     14.2  40.7      0.7  13.1"
      ]
     },
     "execution_count": 2,
     "metadata": {},
     "output_type": "execute_result"
    }
   ],
   "source": [
    "url = \"https://gist.githubusercontent.com/sachinsdate/0b8ebc2b26afb67a1e83e752c69e1a25/raw/43b\\\n",
    "568aa2e29af519720a4a63c83d49b0529d05d/us_census_bureau_acs_2015_2019_subset.csv\"\n",
    "\n",
    "df = pd.read_csv(url)\n",
    "df.to_csv(\"./data/us_census.csv\")\n",
    "\n",
    "df.rename(\n",
    "    {\"Percent_Households_Below_Poverty_Level\": \"poverty\",\n",
    "    \"Median_Age\": \"age\",\n",
    "    \"Homeowner_Vacancy_Rate\": \"vacancy\",\n",
    "    \"Percent_Pop_25_And_Over_With_College_Or_Higher_Educ\": \"educ\"},\n",
    "    axis=1, inplace=True\n",
    ")\n",
    "\n",
    "df = df.dropna()\n",
    "\n",
    "df.head()"
   ]
  },
  {
   "cell_type": "code",
   "execution_count": 47,
   "metadata": {},
   "outputs": [
    {
     "name": "stdout",
     "output_type": "stream",
     "text": [
      "                                 OLS Regression Results                                \n",
      "=======================================================================================\n",
      "Dep. Variable:                poverty   R-squared (uncentered):                   0.782\n",
      "Model:                            OLS   Adj. R-squared (uncentered):              0.782\n",
      "Method:                 Least Squares   F-statistic:                              3850.\n",
      "Date:                Sun, 01 Jan 2023   Prob (F-statistic):                        0.00\n",
      "Time:                        13:22:48   Log-Likelihood:                         -11327.\n",
      "No. Observations:                3219   AIC:                                  2.266e+04\n",
      "Df Residuals:                    3216   BIC:                                  2.268e+04\n",
      "Df Model:                           3                                                  \n",
      "Covariance Type:            nonrobust                                                  \n",
      "==============================================================================\n",
      "                 coef    std err          t      P>|t|      [0.025      0.975]\n",
      "------------------------------------------------------------------------------\n",
      "age            0.3979      0.010     41.720      0.000       0.379       0.417\n",
      "vacancy        0.8733      0.101      8.683      0.000       0.676       1.070\n",
      "educ          -0.1385      0.014     -9.910      0.000      -0.166      -0.111\n",
      "==============================================================================\n",
      "Omnibus:                     1303.968   Durbin-Watson:                   0.960\n",
      "Prob(Omnibus):                  0.000   Jarque-Bera (JB):             6358.130\n",
      "Skew:                           1.907   Prob(JB):                         0.00\n",
      "Kurtosis:                       8.732   Cond. No.                         33.1\n",
      "==============================================================================\n",
      "\n",
      "Notes:\n",
      "[1] R² is computed without centering (uncentered) since the model does not contain a constant.\n",
      "[2] Standard Errors assume that the covariance matrix of the errors is correctly specified.\n"
     ]
    }
   ],
   "source": [
    "X = df[[\"age\", \"vacancy\", \"educ\"]]\n",
    "y = df[\"poverty\"]\n",
    "\n",
    "model = sm.OLS(y, X)\n",
    "results = model.fit()\n",
    "\n",
    "store_params_ols = results.params\n",
    "store_covar_ols = results.normalized_cov_params\n",
    "\n",
    "print(results.summary())"
   ]
  },
  {
   "attachments": {},
   "cell_type": "markdown",
   "metadata": {},
   "source": [
    "Se puede definir la existencia de heterocedasticidad mediante lo siguiente:\n",
    "1. Analisis grafico de los residuos\n",
    "2. Test de White\n",
    "3. Test de Breusch-Pagan"
   ]
  },
  {
   "cell_type": "code",
   "execution_count": 4,
   "metadata": {},
   "outputs": [
    {
     "data": {
      "image/png": "[encoded data removed]",
      "text/plain": [
       "<Figure size 800x400 with 1 Axes>"
      ]
     },
     "metadata": {},
     "output_type": "display_data"
    }
   ],
   "source": [
    "# Test 1\n",
    "y_hat = results.predict(X)\n",
    "residuos = results.resid\n",
    "\n",
    "plt.figure(figsize=(8, 4))\n",
    "plt.scatter(y_hat, residuos)\n",
    "\n",
    "plt.title(\"Analisis grafico de los residuos\", fontsize=14)\n",
    "plt.xlabel(\"Nivel de pobreza estimado\")\n",
    "plt.ylabel(\"Residuo\")\n",
    "\n",
    "plt.show()"
   ]
  },
  {
   "cell_type": "code",
   "execution_count": 64,
   "metadata": {},
   "outputs": [
    {
     "name": "stdout",
     "output_type": "stream",
     "text": [
      "El estadistico es 375.847 y el p-value es 0.0\n"
     ]
    }
   ],
   "source": [
    "# Test 3\n",
    "residuos = results.resid\n",
    "\n",
    "test = het_breuschpagan(residuos, results.model.exog)\n",
    "test = np.round(test, 3)\n",
    "\n",
    "# H0: homocedasticidad en los errores\n",
    "# H1: heterocedasticiadad en los erroes\n",
    "\n",
    "print(f\"El estadistico es {test[0]} y el p-value es {test[1]}\")"
   ]
  },
  {
   "attachments": {},
   "cell_type": "markdown",
   "metadata": {},
   "source": [
    "Para solucionar el problema de heterocedasticidad se puede estimar por `Minimos Cuadrados Generalizados`"
   ]
  },
  {
   "cell_type": "code",
   "execution_count": 41,
   "metadata": {},
   "outputs": [],
   "source": [
    "residuos = results.resid\n",
    "\n",
    "eX = residuos[:-1].reset_index(drop=True)\n",
    "eY = residuos[1:].reset_index(drop=True)\n",
    "\n",
    "residuos_fit = sm.OLS(eY, eX).fit()\n",
    "rho = residuos_fit.params[0]\n",
    "\n",
    "order = toeplitz(np.arange(3219))\n",
    "sigma = rho**order"
   ]
  },
  {
   "cell_type": "code",
   "execution_count": 46,
   "metadata": {},
   "outputs": [
    {
     "name": "stdout",
     "output_type": "stream",
     "text": [
      "                                 GLS Regression Results                                \n",
      "=======================================================================================\n",
      "Dep. Variable:                poverty   R-squared (uncentered):                   0.516\n",
      "Model:                            GLS   Adj. R-squared (uncentered):              0.516\n",
      "Method:                 Least Squares   F-statistic:                              1145.\n",
      "Date:                Sun, 01 Jan 2023   Prob (F-statistic):                        0.00\n",
      "Time:                        13:21:29   Log-Likelihood:                         -10768.\n",
      "No. Observations:                3219   AIC:                                  2.154e+04\n",
      "Df Residuals:                    3216   BIC:                                  2.156e+04\n",
      "Df Model:                           3                                                  \n",
      "Covariance Type:            nonrobust                                                  \n",
      "==============================================================================\n",
      "                 coef    std err          t      P>|t|      [0.025      0.975]\n",
      "------------------------------------------------------------------------------\n",
      "age            0.3656      0.009     41.249      0.000       0.348       0.383\n",
      "vacancy        0.3439      0.078      4.413      0.000       0.191       0.497\n",
      "educ          -0.0981      0.011     -8.737      0.000      -0.120      -0.076\n",
      "==============================================================================\n",
      "Omnibus:                      562.615   Durbin-Watson:                   2.217\n",
      "Prob(Omnibus):                  0.000   Jarque-Bera (JB):             1318.866\n",
      "Skew:                           0.984   Prob(JB):                    4.09e-287\n",
      "Kurtosis:                       5.441   Cond. No.                         15.1\n",
      "==============================================================================\n",
      "\n",
      "Notes:\n",
      "[1] R² is computed without centering (uncentered) since the model does not contain a constant.\n",
      "[2] Standard Errors assume that the covariance matrix of the errors is correctly specified.\n"
     ]
    }
   ],
   "source": [
    "model = sm.GLS(y, X, sigma=sigma)\n",
    "results = model.fit()\n",
    "\n",
    "store_params_gls = results.params\n",
    "store_covar_gls = results.normalized_cov_params\n",
    "\n",
    "print(results.summary())"
   ]
  },
  {
   "attachments": {},
   "cell_type": "markdown",
   "metadata": {},
   "source": [
    "Comparativa de los parametros:"
   ]
  },
  {
   "cell_type": "code",
   "execution_count": 55,
   "metadata": {},
   "outputs": [
    {
     "data": {
      "text/html": [
       "<div>\n",
       "<style scoped>\n",
       "    .dataframe tbody tr th:only-of-type {\n",
       "        vertical-align: middle;\n",
       "    }\n",
       "\n",
       "    .dataframe tbody tr th {\n",
       "        vertical-align: top;\n",
       "    }\n",
       "\n",
       "    .dataframe thead th {\n",
       "        text-align: right;\n",
       "    }\n",
       "</style>\n",
       "<table border=\"1\" class=\"dataframe\">\n",
       "  <thead>\n",
       "    <tr style=\"text-align: right;\">\n",
       "      <th></th>\n",
       "      <th>OLS</th>\n",
       "      <th>GLS</th>\n",
       "    </tr>\n",
       "  </thead>\n",
       "  <tbody>\n",
       "    <tr>\n",
       "      <th>age</th>\n",
       "      <td>0.397883</td>\n",
       "      <td>0.365572</td>\n",
       "    </tr>\n",
       "    <tr>\n",
       "      <th>vacancy</th>\n",
       "      <td>0.873277</td>\n",
       "      <td>0.343937</td>\n",
       "    </tr>\n",
       "    <tr>\n",
       "      <th>educ</th>\n",
       "      <td>-0.138533</td>\n",
       "      <td>-0.098078</td>\n",
       "    </tr>\n",
       "  </tbody>\n",
       "</table>\n",
       "</div>"
      ],
      "text/plain": [
       "              OLS       GLS\n",
       "age      0.397883  0.365572\n",
       "vacancy  0.873277  0.343937\n",
       "educ    -0.138533 -0.098078"
      ]
     },
     "execution_count": 55,
     "metadata": {},
     "output_type": "execute_result"
    }
   ],
   "source": [
    "params = pd.DataFrame(\n",
    "    data = {\n",
    "        \"OLS\": store_params_ols,\n",
    "        \"GLS\": store_params_gls\n",
    "    }\n",
    ")\n",
    "\n",
    "params"
   ]
  },
  {
   "attachments": {},
   "cell_type": "markdown",
   "metadata": {},
   "source": [
    "Comparativa de las matrices de covarianzas de los errores"
   ]
  },
  {
   "cell_type": "code",
   "execution_count": 62,
   "metadata": {},
   "outputs": [
    {
     "name": "stdout",
     "output_type": "stream",
     "text": [
      "Covarianza de errores de OLS\n",
      "              age   vacancy      educ\n",
      "age      0.000001 -0.000008 -0.000002\n",
      "vacancy -0.000008  0.000152  0.000001\n",
      "educ    -0.000002  0.000001  0.000003\n",
      "\n",
      "Covarianza de errores de por GLS\n",
      "                  age   vacancy          educ\n",
      "age      1.215634e-06 -0.000005 -9.532662e-07\n",
      "vacancy -5.116471e-06  0.000094  1.168863e-06\n",
      "educ    -9.532662e-07  0.000001  1.950414e-06\n"
     ]
    }
   ],
   "source": [
    "print(\"Covarianza de errores de OLS\")\n",
    "print(store_covar_ols)\n",
    "print(\"\")\n",
    "print(\"Covarianza de errores de por GLS\")\n",
    "print(store_covar_gls)"
   ]
  },
  {
   "attachments": {},
   "cell_type": "markdown",
   "metadata": {},
   "source": [
    "### Autocorrelacion\n",
    "Se usara las series macroeconomicas de los Estados Unidos"
   ]
  },
  {
   "cell_type": "code",
   "execution_count": null,
   "metadata": {},
   "outputs": [],
   "source": [
    "dta = sm.datasets.macrodata.load_pandas()\n",
    "dta.data.to_csv(\"./data/macrodata.csv\")\n",
    "\n",
    "dta.data.head()"
   ]
  },
  {
   "cell_type": "code",
   "execution_count": null,
   "metadata": {},
   "outputs": [],
   "source": [
    "X = dta.data[[\"realgdp\"]]; y = dta.data[\"cpi\"]\n",
    "X = np.log(X); y = np.log(y)\n",
    "\n",
    "X = X.diff(periods=4)*100; X = X.dropna()\n",
    "y = y.diff(periods=4)*100; y = y.dropna()\n",
    "\n",
    "# Añadir constante\n",
    "X = sm.add_constant(X)"
   ]
  },
  {
   "cell_type": "code",
   "execution_count": null,
   "metadata": {},
   "outputs": [],
   "source": [
    "model = sm.OLS(y, X)\n",
    "results = model.fit()\n",
    "\n",
    "print(results.summary())"
   ]
  },
  {
   "attachments": {},
   "cell_type": "markdown",
   "metadata": {},
   "source": [
    "Se puede definir la existencia de autocorrelacion mediante lo siguiente:\n",
    "1. ACF, PACF\n",
    "2. Test de Durbin-Watson\n",
    "3. Test de Breusch-Pagan"
   ]
  },
  {
   "cell_type": "code",
   "execution_count": null,
   "metadata": {},
   "outputs": [],
   "source": [
    "# Test 1\n",
    "fig, ax = plt.subplots(1, 2, figsize=(10,3))\n",
    "\n",
    "plot_acf(y, ax=ax[0], lags=10, title=\"ACF a la inflacion\", alpha=0.05)\n",
    "plot_pacf(y, ax=ax[1], lags=10, title=\"PACF al inflacion\", alpha=0.05)\n",
    "\n",
    "ax[0].set_ylim([-0.3, 1.2])\n",
    "ax[1].set_ylim([-0.3, 1.2])\n",
    "\n",
    "plt.subplots_adjust()\n",
    "plt.savefig(\"./figures/acf_pacf_inflac.pdf\")\n",
    "plt.show()"
   ]
  },
  {
   "cell_type": "code",
   "execution_count": null,
   "metadata": {},
   "outputs": [],
   "source": [
    "# Test 2\n",
    "np.round(durbin_watson(results.resid), 3) # Autocorrelacion positiva"
   ]
  },
  {
   "cell_type": "code",
   "execution_count": null,
   "metadata": {},
   "outputs": [],
   "source": [
    "# Test 3\n",
    "def test_breusch_godfrey(model_results, maxlags):\n",
    "    list = []\n",
    "\n",
    "    for i in range(1, maxlags+1):\n",
    "        values = acorr_breusch_godfrey(model_results, nlags=i)\n",
    "        list.append([i, values[0], values[1]])\n",
    "    \n",
    "    table = pd.DataFrame(list, columns=[\"lags\", \"LM\", \"pvalue\"])\n",
    "    table.set_index(\"lags\", inplace=True)\n",
    "    \n",
    "    # P-value < pvalue \n",
    "    table[f\"pv<0.1\"] = table[\"pvalue\"]<0.1\n",
    "    table[f\"pv<0.05\"] = table[\"pvalue\"]<0.05\n",
    "    table[f\"pv<0.01\"] = table[\"pvalue\"]<0.01\n",
    "\n",
    "    # Rounding\n",
    "    table[\"LM\"] = np.round(table[\"LM\"], 3)\n",
    "    table[\"pvalue\"] = np.round(table[\"pvalue\"], 3)\n",
    "\n",
    "    return table\n",
    "\n",
    "\n",
    "# La hipotesis nula es de no autocorrelacion\n",
    "# Se rechaza la no autocorrelacion hasta 5 rezagos. \n",
    "test_breusch_godfrey(results, maxlags=5)"
   ]
  },
  {
   "attachments": {},
   "cell_type": "markdown",
   "metadata": {},
   "source": [
    "Inclusión de un rezago"
   ]
  },
  {
   "cell_type": "code",
   "execution_count": null,
   "metadata": {},
   "outputs": [],
   "source": [
    "X = dta.data[[\"realgdp\"]]; y = dta.data[\"cpi\"]\n",
    "X = np.log(X); y = np.log(y)\n",
    "\n",
    "X = X.diff(periods=4)*100 \n",
    "y = y.diff(periods=4)*100\n",
    "\n",
    "X[\"cpi(-1)\"] = y.shift(1) # Añadiendo un rezago\n",
    "X = X.dropna(); y = y.dropna()\n",
    "\n",
    "# Añadir constante\n",
    "X = sm.add_constant(X)\n",
    "\n",
    "y = y[1:]"
   ]
  },
  {
   "cell_type": "code",
   "execution_count": null,
   "metadata": {},
   "outputs": [],
   "source": [
    "model = sm.OLS(y, X)\n",
    "results = model.fit()\n",
    "\n",
    "print(results.summary())"
   ]
  },
  {
   "cell_type": "code",
   "execution_count": null,
   "metadata": {},
   "outputs": [],
   "source": [
    "print(\"Parece solucionar un poco la autocorrelacion en los dos primeros rezagos\")\n",
    "test_breusch_godfrey(results, maxlags=3)"
   ]
  },
  {
   "attachments": {},
   "cell_type": "markdown",
   "metadata": {},
   "source": [
    "### Endogeneidad"
   ]
  },
  {
   "cell_type": "code",
   "execution_count": null,
   "metadata": {},
   "outputs": [],
   "source": []
  },
  {
   "cell_type": "code",
   "execution_count": null,
   "metadata": {},
   "outputs": [],
   "source": []
  },
  {
   "attachments": {},
   "cell_type": "markdown",
   "metadata": {},
   "source": [
    "### No normalidad en errores"
   ]
  },
  {
   "cell_type": "code",
   "execution_count": null,
   "metadata": {},
   "outputs": [],
   "source": []
  },
  {
   "cell_type": "code",
   "execution_count": null,
   "metadata": {},
   "outputs": [],
   "source": []
  },
  {
   "attachments": {},
   "cell_type": "markdown",
   "metadata": {},
   "source": [
    "### Referencias:\n",
    "* https://www.statsmodels.org/dev/diagnostic.html"
   ]
  }
 ],
 "metadata": {
  "kernelspec": {
   "display_name": "base",
   "language": "python",
   "name": "python3"
  },
  "language_info": {
   "codemirror_mode": {
    "name": "ipython",
    "version": 3
   },
   "file_extension": ".py",
   "mimetype": "text/x-python",
   "name": "python",
   "nbconvert_exporter": "python",
   "pygments_lexer": "ipython3",
   "version": "3.9.13"
  },
  "orig_nbformat": 4,
  "vscode": {
   "interpreter": {
    "hash": "a077222d77dfe082b8f1dd562ad70e458ac2ab76993a0b248ab0476e32e9e8dd"
   }
  }
 },
 "nbformat": 4,
 "nbformat_minor": 2
}
